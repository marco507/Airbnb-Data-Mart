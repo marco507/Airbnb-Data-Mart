{
 "cells": [
  {
   "cell_type": "code",
   "execution_count": 2,
   "metadata": {},
   "outputs": [],
   "source": [
    "from random import randint, choice, sample\n",
    "import pandas as pd\n",
    "from datetime import datetime, timedelta"
   ]
  },
  {
   "cell_type": "markdown",
   "metadata": {},
   "source": [
    "### Username, Email and PhoneNumber Generator"
   ]
  },
  {
   "cell_type": "code",
   "execution_count": 1,
   "metadata": {},
   "outputs": [],
   "source": [
    "from random import randint, choice\n",
    "import pandas as pd\n",
    "\n",
    "firstname = [\"James\", \"John\", \"Robert\", \"Michael\", \"William\", \"David\", \"Richard\", \"Joseph\", \"Thomas\", \"Charles\", \"Mary\" ,\n",
    "             \"Patricia\", \"Jennifer\", \"Linda\", \"Elizabeth\", \"Barbara\", \"Susan\", \"Jessica\", \"Sarah\", \"Karen\"]\n",
    "\n",
    "lastname = [\"Smith\", \"Williams\", \"Johnson\", \"Brown\", \"Jones\", \"Miller\", \"Davis\", \"Garcia\", \"Rodriguez\", \"Wilson\", \"Martinez\",\n",
    "            \"Anderson\", \"Taylor\", \"Moore\", \"Thompson\", \"Lee\", \"Harris\", \"Robinson\", \"Hall\", \"Walker\"]\n",
    "\n",
    "provider = [\"hotmail\", \"gmail\", \"outlook\", \"yahoo\"]\n",
    "\n",
    "domain = [\"com\", \"eu\", \"net\"]\n",
    "\n",
    "username = []\n",
    "email = []\n",
    "phone_number = []\n",
    "\n",
    "\n",
    "# Generate Usernames & Email\n",
    "for i, j in zip(firstname, lastname):\n",
    "    username.append(i[:3].lower() + j[:3].lower() + str(randint(1,50))) \n",
    "    email.append(i + \".\" + j + \"@\" + choice(provider) + \".\" + choice(domain))\n",
    "    \n",
    "# Generate Phone Number\n",
    "for i in range(20):\n",
    "    n = '0000000000'\n",
    "    while '9' in n[3:6] or n[3:6]=='000' or n[6]==n[7]==n[8]==n[9]:\n",
    "        n = str(randint(10**9, 10**10-1))\n",
    "        n[:3] + '-' + n[3:6] + '-' + n[6:]\n",
    "        \n",
    "    phone_number.append(\"+4\" + str(randint(1,9)) + (str(n)))\n",
    "\n",
    "# Export Usernames as CSV\n",
    "df = pd.DataFrame({'Username': username, 'Email': email, 'Phone': phone_number})\n",
    "df.to_excel(\"users.xlsx\")  "
   ]
  },
  {
   "cell_type": "markdown",
   "metadata": {},
   "source": [
    "### Furnishing"
   ]
  },
  {
   "cell_type": "code",
   "execution_count": 34,
   "metadata": {},
   "outputs": [],
   "source": [
    "lodging = []\n",
    "furnishing = []\n",
    "\n",
    "# Fill the lodging list with ID's (20 x 10)\n",
    "for i in range(1,21):\n",
    "    for j in range(1,11):\n",
    "        lodging.append(i)\n",
    "\n",
    "# Generate the 10 random furnishing elements that do not repeat in one lodging x 20 lodgings\n",
    "for i in range(1,21):\n",
    "    counter = 1\n",
    "    furnishing_temp = []\n",
    "    \n",
    "    while counter <= 10:\n",
    "        entry = randint(1,20)\n",
    "        if entry not in furnishing_temp:\n",
    "            furnishing_temp.append(entry)\n",
    "            counter += 1\n",
    "            \n",
    "    for i in furnishing_temp:\n",
    "        furnishing.append(i)\n",
    "        \n",
    "# Export the entries for the junction table\n",
    "df = pd.DataFrame({'LodgingID' : lodging, 'FurnishingID' : furnishing})\n",
    "df.to_excel(\"furnishing.xlsx\")"
   ]
  },
  {
   "cell_type": "markdown",
   "metadata": {},
   "source": [
    "### Policy"
   ]
  },
  {
   "cell_type": "code",
   "execution_count": 32,
   "metadata": {},
   "outputs": [],
   "source": [
    "lodging = []\n",
    "policy = []\n",
    "policies_3to5 = [3,4,5]\n",
    "\n",
    "# Fill the lodging list with ID's (20 x 3)\n",
    "for i in range(1,21):\n",
    "    for j in range(1,4):\n",
    "        lodging.append(i)\n",
    "\n",
    "# Generate 3 random policies x 20 lodgings. \n",
    "# ID 1 and 2 must not belong to one lodging simultaneously and must occur once in every lodging.\n",
    "for i in range(1,21):\n",
    "    # Choose between ID 1 and 2\n",
    "    policy.append(randint(1,2))\n",
    "    \n",
    "    # Choose 2 out of 3 ID's without repeating and add them to policy\n",
    "    entry = sample(policies_3to5, 2)\n",
    "    for i in entry:\n",
    "        policy.append(i)\n",
    "\n",
    "# Export the entries of the junction table\n",
    "df = pd.DataFrame({'LodgingID' : lodging, 'PolicyID' : policy})\n",
    "df.to_excel(\"policy.xlsx\")"
   ]
  },
  {
   "cell_type": "markdown",
   "metadata": {},
   "source": [
    "### Rule"
   ]
  },
  {
   "cell_type": "code",
   "execution_count": 36,
   "metadata": {},
   "outputs": [],
   "source": [
    "lodging = []\n",
    "rule = []\n",
    "rule_ID = [1,2,3,4,5]\n",
    "\n",
    "# Fill the lodging list with ID's (20 x 3)\n",
    "for i in range(1,21):\n",
    "    for j in range(1,4):\n",
    "        lodging.append(i)\n",
    "        \n",
    "# Generate 3 random policies x 20 lodgings\n",
    "for i in range(1,21):\n",
    "    # Choose 3 out of 5 ID's without repeating and add them to rule\n",
    "    entry = sample(rule_ID, 3)\n",
    "    for i in entry:\n",
    "        rule.append(i)\n",
    "        \n",
    "# Export the entries of the junction table\n",
    "df = pd.DataFrame({'LodgingID' : lodging, 'RuleID' : rule})\n",
    "df.to_excel(\"rule.xlsx\")"
   ]
  },
  {
   "cell_type": "markdown",
   "metadata": {},
   "source": [
    "### Room"
   ]
  },
  {
   "cell_type": "code",
   "execution_count": 4,
   "metadata": {},
   "outputs": [],
   "source": [
    "# Read the lodging table entries into a dataframe and convert the category into a list\n",
    "lodging = pd.read_csv('lodging.csv')\n",
    "lodging = lodging['Category'].tolist()\n",
    "\n",
    "junction_lodging = []\n",
    "room = []\n",
    "random_rooms_appartment = [3,4,5,7]\n",
    "random_rooms_house = [1,2,3,4,5,6]\n",
    "room_number = []\n",
    "\n",
    "for i in range(20):\n",
    "    # If the lodging is a \"Room\" it can only have one bedroom\n",
    "    if lodging[i] == \"Room\":\n",
    "        # Append the ID of the lodging to the junction_lodging list\n",
    "        junction_lodging.append(i+1)\n",
    "        # Append a single bedroom to the room list (ID = 1)\n",
    "        room.append(\"1\")\n",
    "        room_number.append(\"1\")\n",
    "        \n",
    "    # If the lodging is a \"Appartment\" or \"Loft\" it has exactly 1 Bedroom, Bathroom and Kitchen and 0 or 1 of all other possile rooms.\n",
    "    if lodging[i] in [\"Apartment\", \"Loft\"]:\n",
    "        # Append three new entries to the junction_lodging and room_number list\n",
    "        for j in range(3):\n",
    "            junction_lodging.append(i+1)\n",
    "            room_number.append(\"1\")\n",
    "        # Append the Bedroom, Bathroom and Kitchen\n",
    "        room.append(\"1\")\n",
    "        room.append(\"2\")\n",
    "        room.append(\"6\")\n",
    "        \n",
    "        # Randomly append the other possible rooms\n",
    "        for j in random_rooms_appartment:\n",
    "            entry = randint(0,1)\n",
    "            if entry != 0:\n",
    "                junction_lodging.append(i+1)\n",
    "                room.append(j)\n",
    "                room_number.append(\"1\")\n",
    "                \n",
    "    # If the lodging is a \"House\" it has a 1-3 rooms of every kind except the garage (0/1)\n",
    "    if lodging[i] == \"House\":\n",
    "        # Append a random number of rooms 1 <= x <= 3 to a house \n",
    "        for j in random_rooms_house:\n",
    "            junction_lodging.append(i+1)\n",
    "            room.append(j)\n",
    "            room_number.append(randint(1,3))\n",
    "         \n",
    "        # Randomly append a garage\n",
    "        entry = randint(0,1)\n",
    "        if entry != 0:\n",
    "            junction_lodging.append(i+1)\n",
    "            room.append('7')\n",
    "            room_number.append(\"1\")\n",
    "            \n",
    "# Export the entries of the junction table\n",
    "df = pd.DataFrame({'LodgingID' : junction_lodging, 'RoomID' : room, 'Number' : room_number})\n",
    "df.to_excel(\"room.xlsx\")   "
   ]
  },
  {
   "cell_type": "markdown",
   "metadata": {},
   "source": [
    "### Received/Settled/PaymentOption"
   ]
  },
  {
   "cell_type": "code",
   "execution_count": 3,
   "metadata": {},
   "outputs": [],
   "source": [
    "weight = []\n",
    "received = []\n",
    "settled = []\n",
    "paymentoption = [1,2,3,4]\n",
    "PaymentOptionID =  []\n",
    "\n",
    "\n",
    "# Weighted List (75 % chance received)\n",
    "for i in range(100):\n",
    "    if i <= 75:\n",
    "        weight.append(1)\n",
    "    else:\n",
    "        weight.append(0)\n",
    "\n",
    "for i in range(40):\n",
    "    received.append(choice(weight))\n",
    "    \n",
    "for i in received:\n",
    "    if i == 1:\n",
    "        settled.append(choice(weight))\n",
    "    else:\n",
    "        settled.append(0)\n",
    "\n",
    "for i in range(40):\n",
    "    PaymentOptionID.append(choice(paymentoption))\n",
    "\n",
    "df = pd.DataFrame({'Received': received, 'Settled': settled, 'PaymentOptionID': PaymentOptionID})\n",
    "df.to_excel(\"transpay.xlsx\")"
   ]
  }
 ],
 "metadata": {
  "kernelspec": {
   "display_name": "Python 3",
   "language": "python",
   "name": "python3"
  },
  "language_info": {
   "codemirror_mode": {
    "name": "ipython",
    "version": 3
   },
   "file_extension": ".py",
   "mimetype": "text/x-python",
   "name": "python",
   "nbconvert_exporter": "python",
   "pygments_lexer": "ipython3",
   "version": "3.8.5"
  }
 },
 "nbformat": 4,
 "nbformat_minor": 4
}
